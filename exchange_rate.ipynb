{
 "cells": [
  {
   "cell_type": "code",
   "execution_count": 1,
   "metadata": {},
   "outputs": [],
   "source": [
    "# https://forex-python.readthedocs.io/en/latest/usage.html#currency-rates\n",
    "# pip install forex_python"
   ]
  },
  {
   "cell_type": "code",
   "execution_count": 5,
   "metadata": {},
   "outputs": [
    {
     "name": "stdin",
     "output_type": "stream",
     "text": [
      "From currency:  BRL\n",
      "To currency:  USD\n"
     ]
    },
    {
     "name": "stdout",
     "output_type": "stream",
     "text": [
      "0.1850482713\n"
     ]
    },
    {
     "name": "stdin",
     "output_type": "stream",
     "text": [
      "Enter amount ($):  1000\n"
     ]
    },
    {
     "name": "stdout",
     "output_type": "stream",
     "text": [
      "BRL 1000---> USD:185.05\n"
     ]
    }
   ],
   "source": [
    "#!/usr/bin/python3\n",
    "from forex_python.converter import CurrencyRates                    \n",
    "\n",
    "# From currency\n",
    "cur1 = input(\"From currency: \") \n",
    "# To currency\n",
    "cur2 = input(\"To currency: \") \n",
    "\n",
    "c = CurrencyRates()                                                 \n",
    "rate = c.get_rate(cur1, cur2)                                     \n",
    "print(rate)                                                         \n",
    "\n",
    "price = input(\"Enter amount ($): \")                                 \n",
    "\n",
    "value = float((\"{0:.2f}\").format(float(price)*rate))                \n",
    "print(cur1+' '+str(price) + ' ---> '+cur2+\":\" + str(value))   "
   ]
  },
  {
   "cell_type": "code",
   "execution_count": null,
   "metadata": {},
   "outputs": [],
   "source": []
  }
 ],
 "metadata": {
  "kernelspec": {
   "display_name": "Python 3",
   "language": "python",
   "name": "python3"
  },
  "language_info": {
   "codemirror_mode": {
    "name": "ipython",
    "version": 3
   },
   "file_extension": ".py",
   "mimetype": "text/x-python",
   "name": "python",
   "nbconvert_exporter": "python",
   "pygments_lexer": "ipython3",
   "version": "3.7.2"
  }
 },
 "nbformat": 4,
 "nbformat_minor": 4
}
